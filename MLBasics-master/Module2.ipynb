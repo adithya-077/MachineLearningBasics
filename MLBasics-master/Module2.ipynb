{
 "cells": [
  {
   "cell_type": "markdown",
   "metadata": {
    "colab_type": "text",
    "id": "yvRFuFBLrsac"
   },
   "source": [
    "# Machine Learning Basics\n",
    "In this module, you'll be implementing a simple Linear Regressor and Logistic Regressor. Obtain salary data using `wget` from [here](https://raw.githubusercontent.com/solarillion/MLBasics/master/Data/Salary_Data.csv). <br> <br>\n",
    "**Pipeline:**\n",
    "* Acquiring the data - done\n",
    "* Handling files and formats - done\n",
    "* Data Analysis - done\n",
    "* Prediction\n",
    "* Analysing results"
   ]
  },
  {
   "cell_type": "markdown",
   "metadata": {
    "colab_type": "text",
    "id": "AwvgLLICtyt_"
   },
   "source": [
    "## Imports\n",
    "You may require NumPy, pandas, matplotlib and scikit-learn for this module. Do not, however, use the inbuilt Linear and Logistic Regressors from scikit-learn."
   ]
  },
  {
   "cell_type": "code",
   "execution_count": 2,
   "metadata": {},
   "outputs": [],
   "source": [
    "import numpy as np\n",
    "import pandas as pd\n",
    "import matplotlib.pyplot as plt\n",
    "from sklearn.model_selection import train_test_split"
   ]
  },
  {
   "cell_type": "markdown",
   "metadata": {
    "colab_type": "text",
    "id": "yE5Sz6nKvjTS"
   },
   "source": [
    "## Dataset\n",
    "You can load the dataset and perform any dataset related operations here. Split the data into training and testing sets. Do this separately for the regression and classification problems."
   ]
  },
  {
   "cell_type": "code",
   "execution_count": 168,
   "metadata": {
    "scrolled": true
   },
   "outputs": [
    {
     "data": {
      "text/html": [
       "<div>\n",
       "<style scoped>\n",
       "    .dataframe tbody tr th:only-of-type {\n",
       "        vertical-align: middle;\n",
       "    }\n",
       "\n",
       "    .dataframe tbody tr th {\n",
       "        vertical-align: top;\n",
       "    }\n",
       "\n",
       "    .dataframe thead th {\n",
       "        text-align: right;\n",
       "    }\n",
       "</style>\n",
       "<table border=\"1\" class=\"dataframe\">\n",
       "  <thead>\n",
       "    <tr style=\"text-align: right;\">\n",
       "      <th></th>\n",
       "      <th>YearsExperience</th>\n",
       "      <th>Salary</th>\n",
       "    </tr>\n",
       "  </thead>\n",
       "  <tbody>\n",
       "    <tr>\n",
       "      <th>0</th>\n",
       "      <td>1.1</td>\n",
       "      <td>39343.0</td>\n",
       "    </tr>\n",
       "    <tr>\n",
       "      <th>1</th>\n",
       "      <td>1.3</td>\n",
       "      <td>46205.0</td>\n",
       "    </tr>\n",
       "    <tr>\n",
       "      <th>2</th>\n",
       "      <td>1.5</td>\n",
       "      <td>37731.0</td>\n",
       "    </tr>\n",
       "    <tr>\n",
       "      <th>3</th>\n",
       "      <td>2.0</td>\n",
       "      <td>43525.0</td>\n",
       "    </tr>\n",
       "    <tr>\n",
       "      <th>4</th>\n",
       "      <td>2.2</td>\n",
       "      <td>39891.0</td>\n",
       "    </tr>\n",
       "    <tr>\n",
       "      <th>5</th>\n",
       "      <td>2.9</td>\n",
       "      <td>56642.0</td>\n",
       "    </tr>\n",
       "    <tr>\n",
       "      <th>6</th>\n",
       "      <td>3.0</td>\n",
       "      <td>60150.0</td>\n",
       "    </tr>\n",
       "    <tr>\n",
       "      <th>7</th>\n",
       "      <td>3.2</td>\n",
       "      <td>54445.0</td>\n",
       "    </tr>\n",
       "    <tr>\n",
       "      <th>8</th>\n",
       "      <td>3.2</td>\n",
       "      <td>64445.0</td>\n",
       "    </tr>\n",
       "    <tr>\n",
       "      <th>9</th>\n",
       "      <td>3.7</td>\n",
       "      <td>57189.0</td>\n",
       "    </tr>\n",
       "    <tr>\n",
       "      <th>10</th>\n",
       "      <td>3.9</td>\n",
       "      <td>63218.0</td>\n",
       "    </tr>\n",
       "    <tr>\n",
       "      <th>11</th>\n",
       "      <td>4.0</td>\n",
       "      <td>55794.0</td>\n",
       "    </tr>\n",
       "    <tr>\n",
       "      <th>12</th>\n",
       "      <td>4.0</td>\n",
       "      <td>56957.0</td>\n",
       "    </tr>\n",
       "    <tr>\n",
       "      <th>13</th>\n",
       "      <td>4.1</td>\n",
       "      <td>57081.0</td>\n",
       "    </tr>\n",
       "    <tr>\n",
       "      <th>14</th>\n",
       "      <td>4.5</td>\n",
       "      <td>61111.0</td>\n",
       "    </tr>\n",
       "    <tr>\n",
       "      <th>15</th>\n",
       "      <td>4.9</td>\n",
       "      <td>67938.0</td>\n",
       "    </tr>\n",
       "    <tr>\n",
       "      <th>16</th>\n",
       "      <td>5.1</td>\n",
       "      <td>66029.0</td>\n",
       "    </tr>\n",
       "    <tr>\n",
       "      <th>17</th>\n",
       "      <td>5.3</td>\n",
       "      <td>83088.0</td>\n",
       "    </tr>\n",
       "    <tr>\n",
       "      <th>18</th>\n",
       "      <td>5.9</td>\n",
       "      <td>81363.0</td>\n",
       "    </tr>\n",
       "    <tr>\n",
       "      <th>19</th>\n",
       "      <td>6.0</td>\n",
       "      <td>93940.0</td>\n",
       "    </tr>\n",
       "    <tr>\n",
       "      <th>20</th>\n",
       "      <td>6.8</td>\n",
       "      <td>91738.0</td>\n",
       "    </tr>\n",
       "    <tr>\n",
       "      <th>21</th>\n",
       "      <td>7.1</td>\n",
       "      <td>98273.0</td>\n",
       "    </tr>\n",
       "    <tr>\n",
       "      <th>22</th>\n",
       "      <td>7.9</td>\n",
       "      <td>101302.0</td>\n",
       "    </tr>\n",
       "    <tr>\n",
       "      <th>23</th>\n",
       "      <td>8.2</td>\n",
       "      <td>113812.0</td>\n",
       "    </tr>\n",
       "    <tr>\n",
       "      <th>24</th>\n",
       "      <td>8.7</td>\n",
       "      <td>109431.0</td>\n",
       "    </tr>\n",
       "    <tr>\n",
       "      <th>25</th>\n",
       "      <td>9.0</td>\n",
       "      <td>105582.0</td>\n",
       "    </tr>\n",
       "    <tr>\n",
       "      <th>26</th>\n",
       "      <td>9.5</td>\n",
       "      <td>116969.0</td>\n",
       "    </tr>\n",
       "    <tr>\n",
       "      <th>27</th>\n",
       "      <td>9.6</td>\n",
       "      <td>112635.0</td>\n",
       "    </tr>\n",
       "    <tr>\n",
       "      <th>28</th>\n",
       "      <td>10.3</td>\n",
       "      <td>122391.0</td>\n",
       "    </tr>\n",
       "    <tr>\n",
       "      <th>29</th>\n",
       "      <td>10.5</td>\n",
       "      <td>121872.0</td>\n",
       "    </tr>\n",
       "  </tbody>\n",
       "</table>\n",
       "</div>"
      ],
      "text/plain": [
       "    YearsExperience    Salary\n",
       "0               1.1   39343.0\n",
       "1               1.3   46205.0\n",
       "2               1.5   37731.0\n",
       "3               2.0   43525.0\n",
       "4               2.2   39891.0\n",
       "5               2.9   56642.0\n",
       "6               3.0   60150.0\n",
       "7               3.2   54445.0\n",
       "8               3.2   64445.0\n",
       "9               3.7   57189.0\n",
       "10              3.9   63218.0\n",
       "11              4.0   55794.0\n",
       "12              4.0   56957.0\n",
       "13              4.1   57081.0\n",
       "14              4.5   61111.0\n",
       "15              4.9   67938.0\n",
       "16              5.1   66029.0\n",
       "17              5.3   83088.0\n",
       "18              5.9   81363.0\n",
       "19              6.0   93940.0\n",
       "20              6.8   91738.0\n",
       "21              7.1   98273.0\n",
       "22              7.9  101302.0\n",
       "23              8.2  113812.0\n",
       "24              8.7  109431.0\n",
       "25              9.0  105582.0\n",
       "26              9.5  116969.0\n",
       "27              9.6  112635.0\n",
       "28             10.3  122391.0\n",
       "29             10.5  121872.0"
      ]
     },
     "execution_count": 168,
     "metadata": {},
     "output_type": "execute_result"
    }
   ],
   "source": [
    "df = pd.read_csv('./Data/Salary_Data.csv',index_col=None) \n",
    "X=df['YearsExperience'].values\n",
    "y=df['Salary'].values\n",
    "X_train_lnr , X_test_lnr , y_train_lnr , y_test_lnr = train_test_split(X,y,test_size=0.2,random_state=7)\n",
    "df"
   ]
  },
  {
   "cell_type": "markdown",
   "metadata": {
    "colab_type": "text",
    "id": "VienPTZA1ZEr"
   },
   "source": [
    "## Task 1a - Linear Regressor\n",
    "Code your own Linear Regressor here, and fit it to your training data. You will be predicting salary based on years of experience."
   ]
  },
  {
   "cell_type": "code",
   "execution_count": 169,
   "metadata": {},
   "outputs": [
    {
     "name": "stdout",
     "output_type": "stream",
     "text": [
      "actual: [37731. 83088. 46205. 57189. 55794. 56642.]\n",
      "predicted: [39296.222, 75602.4336, 37385.3688, 60315.6077, 63181.8875, 52672.1947]\n",
      "9554.266203095416 24964.822717686453\n"
     ]
    }
   ],
   "source": [
    "#we use formula y = mx+c to find a regression line to use in our model.\n",
    "#to find the value of m and c \n",
    "\n",
    "\n",
    "#fitting the model.\n",
    "form_ne = 0\n",
    "from_de = 0\n",
    "mean_x = X_train_lnr.mean()\n",
    "mean_y = y_train_lnr.mean()\n",
    "for i in range(len(X_train_lnr)):\n",
    "    form_ne+=((X_train_lnr[i]-mean_x)*(y_train_lnr[i]-mean_x))\n",
    "    from_de+=pow((X_train_lnr[i]-mean_x),2)\n",
    "m = form_ne/from_de\n",
    "c=mean_y - mean_x*m\n",
    "\n",
    "#predicting the result using the model.\n",
    "pred_res_lr_wogd = []\n",
    "for i in range((len(X_test_lnr))):\n",
    "    res = (m*(X_test_lnr[i]))+c\n",
    "    pred_res_lr_wogd.append(round(res,4))\n",
    "\n",
    "print('actual:', y_test_lnr)\n",
    "print('predicted:', pred_res_lr_wogd)\n",
    "print(m,c)"
   ]
  },
  {
   "cell_type": "code",
   "execution_count": 170,
   "metadata": {},
   "outputs": [
    {
     "data": {
      "image/png": "[encoded data removed]",
      "text/plain": [
       "<Figure size 432x288 with 1 Axes>"
      ]
     },
     "metadata": {
      "needs_background": "light"
     },
     "output_type": "display_data"
    }
   ],
   "source": [
    "plt.scatter(X_test_lnr,y_test_lnr)\n",
    "plt.plot(X_test_lnr,pred_res_lr_wogd,c='red')\n",
    "plt.show()"
   ]
  },
  {
   "cell_type": "code",
   "execution_count": 178,
   "metadata": {},
   "outputs": [
    {
     "name": "stdout",
     "output_type": "stream",
     "text": [
      "actual: [[-1.419919  ]\n",
      " [ 0.26285865]\n",
      " [-1.10552744]\n",
      " [-0.69801306]\n",
      " [-0.74976858]\n",
      " [-0.71830716]]\n",
      "predicted: [[-1.36153327]\n",
      " [-0.0147246 ]\n",
      " [-1.43241793]\n",
      " [-0.58180193]\n",
      " [-0.47547494]\n",
      " [-0.8653406 ]]\n"
     ]
    }
   ],
   "source": [
    "df = pd.read_csv('./Data/Salary_Data.csv',index_col=None) \n",
    "\n",
    "#Standardization of the given dataset\n",
    "for i in range(df.shape[1]):\n",
    "    df.iloc[:,i] = (df.iloc[:,i] - np.mean(df.iloc[:,i]))/np.std(df.iloc[:,i])\n",
    "X=df['YearsExperience'].values\n",
    "X= X.reshape(-1, 1)\n",
    "y=df['Salary'].values\n",
    "y = y.reshape(-1, 1)\n",
    "\n",
    "X_train_lnr_wgd , X_test_lnr_wgd , y_train_lnr_wgd , y_test_lnr_wgd = train_test_split(X,y,test_size=0.2,random_state=7)\n",
    "\n",
    "class LinearRegressor:\n",
    "    def __init__(self, lr=0.001, itr=10000):\n",
    "        self.lr = lr\n",
    "        self.itr = itr\n",
    "        self.w = 0\n",
    "        self.b = 0\n",
    "\n",
    "    def fit(self, X, y):\n",
    "        nosamples, nofeatures = X.shape\n",
    "        self.w = np.zeros((nofeatures, 1))\n",
    "\n",
    "        for i in range(self.itr):\n",
    "            y_pred = np.dot(X, self.w) + self.b\n",
    "\n",
    "            dw = (1/nosamples) * np.dot(X.T, (y_pred - y))\n",
    "            db = (1/nosamples) * np.sum(y_pred - y)\n",
    "\n",
    "            self.w -= self.lr * dw\n",
    "            self.b -= self.lr * db\n",
    "\n",
    "    def predict(self, X):\n",
    "        res = np.dot(X, self.w) + self.b\n",
    "        return res\n",
    "    \n",
    "\n",
    "model = LinearRegressor()\n",
    "model.fit(X_train_lnr_wgd, y_train_lnr_wgd)\n",
    "\n",
    "pred_res_lr_wgd = model.predict(X_test_lnr_wgd)\n",
    "print('actual:', y_test_lnr_wgd)\n",
    "print('predicted:', pred_res_lr_wgd)"
   ]
  },
  {
   "cell_type": "code",
   "execution_count": 180,
   "metadata": {},
   "outputs": [
    {
     "data": {
      "image/png": "[encoded data removed]",
      "text/plain": [
       "<Figure size 432x288 with 1 Axes>"
      ]
     },
     "metadata": {
      "needs_background": "light"
     },
     "output_type": "display_data"
    }
   ],
   "source": [
    "plt.scatter(X_test_lnr_wgd,y_test_lnr_wgd)\n",
    "plt.plot(X_test_lnr_wgd,pred_res_lr_wgd,c='red')\n",
    "plt.show()"
   ]
  },
  {
   "cell_type": "markdown",
   "metadata": {},
   "source": [
    "## Task 1b - Logistic Regression\n",
    "Code your own Logistic Regressor here, and fit it to your training data. You will first have to create a column, 'Salary<60000', which contains '1' if salary is less than 60000 and '0' otherwise. This is your target variable, which you will aim to predict based on years of experience."
   ]
  },
  {
   "cell_type": "code",
   "execution_count": 173,
   "metadata": {},
   "outputs": [
    {
     "name": "stdout",
     "output_type": "stream",
     "text": [
      "[1, 1, 0, 0, 0, 0] [[1]\n",
      " [1]\n",
      " [0]\n",
      " [0]\n",
      " [0]\n",
      " [0]]\n"
     ]
    }
   ],
   "source": [
    "# for Logistic regression\n",
    "df = pd.read_csv('./Data/Salary_Data.csv',index_col=None) \n",
    "df['Salary<60000'] = [1 if i<60000 else 0 for i in df['Salary']]\n",
    "df = df.drop(['Salary'],axis=1)\n",
    "Y = np.array(df['Salary<60000'])\n",
    "Y = Y.reshape(-1, 1)\n",
    "X = np.array(df['YearsExperience'])\n",
    "X= X.reshape(-1, 1)\n",
    "X_train_log, X_test_log , y_train_log , y_test_log = train_test_split(X,Y,test_size=0.2,random_state=7,stratify=Y)\n",
    "\n",
    "\n",
    "\n",
    "#building a logistic Regression model.\n",
    "class LogisticRegressor:\n",
    "    def __init__(self, lr=0.01, itr=100000):\n",
    "        self.lr = lr\n",
    "        self.itr = itr\n",
    "        self.w = 0\n",
    "        self.b = 0\n",
    "    def Sigmoid(self, ip):\n",
    "        return 1/(1+np.exp(-ip))\n",
    "\n",
    "    def fit(self, X, y):\n",
    "        nosamples, nofeatures = X.shape\n",
    "        self.w = np.zeros((nofeatures, 1))\n",
    "        \n",
    "        for i in range(self.itr):\n",
    "            y_pred = self.Sigmoid(np.dot(X, self.w) + self.b)\n",
    "            dw = (1/nosamples) * np.dot(X.T, (y_pred - y))\n",
    "            db = (1/nosamples) * np.sum(y_pred - y)\n",
    "\n",
    "            # update parameters\n",
    "            self.w -= self.lr * dw\n",
    "            self.b -= self.lr * db\n",
    "\n",
    "    def predict(self, X):\n",
    "        res = self.Sigmoid(np.dot(X, self.w) + self.b)\n",
    "        res = [1 if i[0]>=0.5 else 0 for i in res]\n",
    "        return res\n",
    "\n",
    "model = LogisticRegressor()\n",
    "model.fit(X_train_log, y_train_log)\n",
    "\n",
    "pred_res_log_wgd = model.predict(X_test_log)\n",
    "print(pred_res_log_wgd , y_test_log)"
   ]
  },
  {
   "cell_type": "markdown",
   "metadata": {
    "colab_type": "text",
    "id": "vaCu6RS52qYf"
   },
   "source": [
    "## Task 2 - Results\n",
    "Analyse the quality of the ML models you built using metrics such as R2, MAE and RMSE for the Linear Regressor, and Accuracy for the Logistic Regressor. Evaluate their performance on the testing set."
   ]
  },
  {
   "cell_type": "code",
   "execution_count": 174,
   "metadata": {},
   "outputs": [
    {
     "name": "stdout",
     "output_type": "stream",
     "text": [
      "R2 Score for linear regression without gradient decent: 0.8143022788939154\n",
      "R2 Score for linear regression with gradient decent: 0.8144064750795932\n",
      "MAE Score for linear regression without gradient decent: 5392.45335\n",
      "MAE Score for linear regression with gradient decent: 0.20006628007768587\n",
      "RMSE Score for linear regression without gradient decent: 6005.350812461195\n",
      "RMSE Score for linear regression with gradient decent: 0.22274035984583127\n"
     ]
    }
   ],
   "source": [
    "from sklearn.metrics import r2_score\n",
    "\n",
    "y_test_lnr = np.array(y_test_lnr)\n",
    "pred_res_lr_wogd = np.array(pred_res_lr_wogd)\n",
    "pred_res_lr_wgd = np.array(pred_res_lr_wgd)\n",
    "\n",
    "\n",
    "\n",
    "print(f'R2 Score for linear regression without gradient decent: {r2_score(y_test_lnr,pred_res_lr_wogd)}')\n",
    "\n",
    "print(f'R2 Score for linear regression with gradient decent: {r2_score(y_test_lnr_wgd,pred_res_lr_wgd)}')\n",
    "\n",
    "print(f'MAE Score for linear regression without gradient decent: {np.mean(np.abs(y_test_lnr - pred_res_lr_wogd ))}')\n",
    "\n",
    "print(f'MAE Score for linear regression with gradient decent: {np.mean(np.abs(y_test_lnr_wgd - pred_res_lr_wgd ))}')\n",
    "\n",
    "print(f'RMSE Score for linear regression without gradient decent: {np.sqrt(np.mean(np.abs(y_test_lnr - pred_res_lr_wogd )**2))}') \n",
    "\n",
    "print(f'RMSE Score for linear regression with gradient decent: {np.sqrt(np.mean(np.abs(y_test_lnr_wgd - pred_res_lr_wgd )**2))}')"
   ]
  },
  {
   "cell_type": "code",
   "execution_count": 175,
   "metadata": {},
   "outputs": [
    {
     "name": "stdout",
     "output_type": "stream",
     "text": [
      "Accuracy Score for Logistic regression with gradient decent: 1.0\n"
     ]
    }
   ],
   "source": [
    "from sklearn.metrics import accuracy_score\n",
    "print(f'Accuracy Score for Logistic regression with gradient decent: {accuracy_score(y_test_log,pred_res_log_wgd)}')"
   ]
  }
 ],
 "metadata": {
  "colab": {
   "name": "Untitled15.ipynb",
   "provenance": [],
   "version": "0.3.2"
  },
  "kernelspec": {
   "display_name": "Python 3 (ipykernel)",
   "language": "python",
   "name": "python3"
  },
  "language_info": {
   "codemirror_mode": {
    "name": "ipython",
    "version": 3
   },
   "file_extension": ".py",
   "mimetype": "text/x-python",
   "name": "python",
   "nbconvert_exporter": "python",
   "pygments_lexer": "ipython3",
   "version": "3.9.12"
  }
 },
 "nbformat": 4,
 "nbformat_minor": 1
}
