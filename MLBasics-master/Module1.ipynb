{
 "cells": [
  {
   "cell_type": "markdown",
   "metadata": {},
   "source": [
    "# Machine Learning Basics\n",
    "In this module, you'll be acquiring and handling datasets. You will be using the Cinema Data, Salary Data and Reviews Data for the tasks in this module. <br> <br>\n",
    "**Pipeline:**\n",
    "* Acquiring the data\n",
    "* Handling files and formats\n",
    "* Data Analysis\n",
    "* Prediction\n",
    "* Analysing results"
   ]
  },
  {
   "cell_type": "markdown",
   "metadata": {},
   "source": [
    "## Dataset Handling\n",
    "* You can find the Reviews Data in a RAR file in the 'Data' directory. Extract this dataset and use it for this module.\n",
    "\n",
    "* The dataset contains positive and negative movie reviews. The files 'Positive_Reviews.txt' and 'Negative_Reviews.txt' contain names of files having positive and negative reviews respectively. Create two directories ‘pos’ and ‘neg’, and segregate the reviews accordingly into the two directories.\n",
    "\n",
    "* Load ‘cv000_29590.csv’ and report the number of words present in the first column.\n",
    "\n",
    "* Find the number of unique words in the first column. For this task, ignore punctuations, that is, punctuations are not considered as a word or a part of it.\n",
    "\n",
    "* Lookups: OS module, String functions"
   ]
  },
  {
   "cell_type": "code",
   "execution_count": 13,
   "metadata": {},
   "outputs": [
    {
     "data": {
      "text/plain": [
       "['.ipynb_checkpoints',\n",
       " 'neg',\n",
       " 'Negative_Reviews.txt',\n",
       " 'pos',\n",
       " 'Positive_Reviews.txt',\n",
       " 'Reviews',\n",
       " 'Reviews.rar',\n",
       " 'Salary_Data.csv']"
      ]
     },
     "execution_count": 13,
     "metadata": {},
     "output_type": "execute_result"
    }
   ],
   "source": [
    "import os \n",
    "import pandas as pd\n",
    "import re\n",
    "os.listdir()"
   ]
  },
  {
   "cell_type": "markdown",
   "metadata": {},
   "source": [
    "***The dataset contains positive and negative movie reviews. The files 'Positive_Reviews.txt' and 'Negative_Reviews.txt' contain names of files having positive and negative reviews respectively. Create two directories ‘pos’ and ‘neg’, and segregate the reviews accordingly into the two directories.***"
   ]
  },
  {
   "cell_type": "code",
   "execution_count": 14,
   "metadata": {},
   "outputs": [
    {
     "data": {
      "text/plain": [
       "'D:\\\\programming\\\\practice\\\\assingment 2\\\\MLBasics-master\\\\Data'"
      ]
     },
     "execution_count": 14,
     "metadata": {},
     "output_type": "execute_result"
    }
   ],
   "source": [
    "# os.chdir(os.getcwd()+'//Data')\n",
    "os.getcwd()"
   ]
  },
  {
   "cell_type": "code",
   "execution_count": 15,
   "metadata": {},
   "outputs": [],
   "source": [
    "with open('./Negative_Reviews.txt','r') as f:\n",
    "    res = f.readlines()\n",
    "    \n",
    "pos = re.findall('cv\\d{3}_\\d{5}.txt',res[0])\n",
    "\n",
    "with open('./Positive_Reviews.txt','r') as f:\n",
    "    res = f.readlines()\n",
    "    \n",
    "neg = re.findall('cv\\d{3}_\\d{5}.txt',res[0])"
   ]
  },
  {
   "cell_type": "code",
   "execution_count": 18,
   "metadata": {},
   "outputs": [],
   "source": [
    "os.mkdir('pos')\n",
    "os.mkdir('neg')"
   ]
  },
  {
   "cell_type": "code",
   "execution_count": 23,
   "metadata": {},
   "outputs": [],
   "source": [
    "pos_path1 = os.getcwd()+'\\\\Reviews'\n",
    "pos_path2 = os.getcwd()+'\\\\pos'\n",
    "for i in pos:\n",
    "    os.rename(pos_path1+f'\\{i}',pos_path2+f'\\{i}')\n",
    "    "
   ]
  },
  {
   "cell_type": "code",
   "execution_count": 24,
   "metadata": {},
   "outputs": [
    {
     "data": {
      "text/plain": [
       "'D:\\\\programming\\\\practice\\\\assingment 2\\\\MLBasics-master\\\\Data'"
      ]
     },
     "execution_count": 24,
     "metadata": {},
     "output_type": "execute_result"
    }
   ],
   "source": [
    "os.getcwd()"
   ]
  },
  {
   "cell_type": "code",
   "execution_count": 25,
   "metadata": {},
   "outputs": [],
   "source": [
    "neg_path2 = os.getcwd()+'\\\\neg'\n",
    "for j in neg:\n",
    "    os.rename(pos_path1+f'\\{j}',neg_path2+f'\\{j}')"
   ]
  },
  {
   "cell_type": "markdown",
   "metadata": {},
   "source": [
    "***Load ‘cv000_29590.csv’ and report the number of words present in the first column***"
   ]
  },
  {
   "cell_type": "code",
   "execution_count": 27,
   "metadata": {},
   "outputs": [
    {
     "name": "stdout",
     "output_type": "stream",
     "text": [
      "264\n"
     ]
    }
   ],
   "source": [
    "df = pd.read_csv('./neg/cv000_29590.txt',header=None)\n",
    "c=0\n",
    "for i in range(0,len(df.iloc[:,0])):\n",
    "    c+=len(df.iloc[:,0][i].split(' '))-1\n",
    "print(c)"
   ]
  },
  {
   "cell_type": "markdown",
   "metadata": {},
   "source": [
    "***Find the number of unique words in the first column. For this task, ignore punctuations, that is, punctuations are not \n",
    "considered as a word or a part of it***"
   ]
  },
  {
   "cell_type": "code",
   "execution_count": 28,
   "metadata": {},
   "outputs": [
    {
     "name": "stdout",
     "output_type": "stream",
     "text": [
      "174\n"
     ]
    },
    {
     "data": {
      "text/plain": [
       "['films',\n",
       " 'adapted',\n",
       " 'from',\n",
       " 'comic',\n",
       " 'books',\n",
       " 'have',\n",
       " 'had',\n",
       " 'plenty',\n",
       " 'of',\n",
       " 'success',\n",
       " 'for',\n",
       " 'starters',\n",
       " 'to',\n",
       " 'say',\n",
       " 'moore',\n",
       " 'and',\n",
       " 'campbell',\n",
       " 'thoroughly',\n",
       " 'researched',\n",
       " 'the',\n",
       " 'subject',\n",
       " 'of',\n",
       " 'jack',\n",
       " 'the',\n",
       " 'ripper',\n",
       " 'would',\n",
       " 'be',\n",
       " 'like',\n",
       " 'saying',\n",
       " 'michael',\n",
       " 'jackson',\n",
       " 'is',\n",
       " 'starting',\n",
       " 'to',\n",
       " 'look',\n",
       " 'a',\n",
       " 'little',\n",
       " 'odd',\n",
       " '.',\n",
       " 'the',\n",
       " 'book',\n",
       " '(',\n",
       " 'or',\n",
       " '\"',\n",
       " 'graphic',\n",
       " 'novel',\n",
       " 'in',\n",
       " 'other',\n",
       " 'words',\n",
       " 'if',\n",
       " 'you',\n",
       " 'can',\n",
       " 'get',\n",
       " 'past',\n",
       " 'the',\n",
       " 'whole',\n",
       " 'comic',\n",
       " 'book',\n",
       " 'thing',\n",
       " 'getting',\n",
       " 'the',\n",
       " 'hughes',\n",
       " 'brothers',\n",
       " 'to',\n",
       " 'direct',\n",
       " 'this',\n",
       " 'seems',\n",
       " 'almost',\n",
       " 'as',\n",
       " 'ludicrous',\n",
       " 'as',\n",
       " 'casting',\n",
       " 'carrot',\n",
       " 'top',\n",
       " 'in',\n",
       " 'the',\n",
       " 'ghetto',\n",
       " 'in',\n",
       " 'question',\n",
       " 'is',\n",
       " \"it's\",\n",
       " 'a',\n",
       " 'filthy',\n",
       " 'when',\n",
       " 'the',\n",
       " 'first',\n",
       " 'stiff',\n",
       " 'turns',\n",
       " 'up',\n",
       " 'abberline',\n",
       " 'upon',\n",
       " 'arriving',\n",
       " 'in',\n",
       " 'whitechapel',\n",
       " 'i',\n",
       " \"don't\",\n",
       " 'think',\n",
       " 'anyone',\n",
       " 'needs',\n",
       " 'to',\n",
       " 'be',\n",
       " 'briefed',\n",
       " 'on',\n",
       " 'jack',\n",
       " 'the',\n",
       " 'ripper',\n",
       " 'in',\n",
       " 'the',\n",
       " 'comic',\n",
       " \"it's\",\n",
       " 'funny',\n",
       " 'to',\n",
       " 'watch',\n",
       " 'the',\n",
       " 'locals',\n",
       " 'blindly',\n",
       " 'point',\n",
       " 'the',\n",
       " 'finger',\n",
       " 'of',\n",
       " 'blame',\n",
       " 'at',\n",
       " 'jews',\n",
       " 'and',\n",
       " 'indians',\n",
       " 'because',\n",
       " 'and',\n",
       " 'from',\n",
       " \"hell's\",\n",
       " 'ending',\n",
       " 'had',\n",
       " 'me',\n",
       " 'whistling',\n",
       " 'the',\n",
       " 'stonecutters',\n",
       " 'song',\n",
       " 'from',\n",
       " 'the',\n",
       " 'simpsons',\n",
       " 'for',\n",
       " 'days',\n",
       " '(',\n",
       " '\"',\n",
       " 'who',\n",
       " 'holds',\n",
       " 'back',\n",
       " 'the',\n",
       " 'electric',\n",
       " 'car/who',\n",
       " 'made',\n",
       " 'steve',\n",
       " 'guttenberg',\n",
       " 'a',\n",
       " 'star',\n",
       " '?',\n",
       " '\"',\n",
       " ')',\n",
       " '.',\n",
       " \"don't\",\n",
       " 'worry',\n",
       " '-',\n",
       " \"it'll\",\n",
       " 'all',\n",
       " 'make',\n",
       " 'sense',\n",
       " 'when',\n",
       " 'you',\n",
       " 'see',\n",
       " 'it',\n",
       " '.',\n",
       " 'now',\n",
       " 'onto',\n",
       " 'from',\n",
       " \"hell's\",\n",
       " 'appearance',\n",
       " ':',\n",
       " \"it's\",\n",
       " 'certainly',\n",
       " 'dark',\n",
       " 'and',\n",
       " 'bleak',\n",
       " 'enough',\n",
       " 'the',\n",
       " 'print',\n",
       " 'i',\n",
       " 'saw',\n",
       " \"wasn't\",\n",
       " 'completely',\n",
       " 'finished',\n",
       " '(',\n",
       " 'both',\n",
       " 'color',\n",
       " 'and',\n",
       " 'music',\n",
       " 'had',\n",
       " 'not',\n",
       " 'been',\n",
       " 'finalized',\n",
       " 'oscar',\n",
       " 'winner',\n",
       " 'martin',\n",
       " \"childs'\",\n",
       " '(',\n",
       " 'shakespeare',\n",
       " 'in',\n",
       " 'love',\n",
       " ')',\n",
       " 'production',\n",
       " 'design',\n",
       " 'turns',\n",
       " 'the',\n",
       " 'original',\n",
       " 'prague',\n",
       " 'surroundings',\n",
       " 'into',\n",
       " 'one',\n",
       " 'creepy',\n",
       " 'place',\n",
       " '.',\n",
       " 'even',\n",
       " 'the',\n",
       " 'acting',\n",
       " 'in',\n",
       " 'from',\n",
       " 'hell',\n",
       " 'is',\n",
       " 'solid',\n",
       " 'ians',\n",
       " 'holm',\n",
       " '(',\n",
       " 'joe',\n",
       " \"gould's\",\n",
       " 'secret',\n",
       " ')',\n",
       " 'and',\n",
       " 'richardson',\n",
       " '(',\n",
       " '102',\n",
       " 'dalmatians',\n",
       " ')',\n",
       " 'log',\n",
       " 'in',\n",
       " 'great',\n",
       " 'supporting',\n",
       " 'roles',\n",
       " 'i',\n",
       " 'cringed',\n",
       " 'the',\n",
       " 'first',\n",
       " 'time',\n",
       " 'she',\n",
       " 'opened',\n",
       " 'her',\n",
       " 'mouth',\n",
       " 'the',\n",
       " 'film',\n",
       " '2',\n",
       " ':',\n",
       " '00',\n",
       " '-',\n",
       " 'r',\n",
       " 'for',\n",
       " 'strong',\n",
       " 'violence/gore',\n",
       " '']"
      ]
     },
     "execution_count": 28,
     "metadata": {},
     "output_type": "execute_result"
    }
   ],
   "source": [
    "c=''\n",
    "for i in range(0,len(df.iloc[:,0])):\n",
    "    c+=df.iloc[:,0][i]\n",
    "final_res = c.split(' ')\n",
    "print(len(set([i for i in final_res if re.match('[a-zA-Z]',i)])))\n",
    "final_res"
   ]
  }
 ],
 "metadata": {
  "kernelspec": {
   "display_name": "Python 3 (ipykernel)",
   "language": "python",
   "name": "python3"
  },
  "language_info": {
   "codemirror_mode": {
    "name": "ipython",
    "version": 3
   },
   "file_extension": ".py",
   "mimetype": "text/x-python",
   "name": "python",
   "nbconvert_exporter": "python",
   "pygments_lexer": "ipython3",
   "version": "3.9.12"
  }
 },
 "nbformat": 4,
 "nbformat_minor": 2
}
